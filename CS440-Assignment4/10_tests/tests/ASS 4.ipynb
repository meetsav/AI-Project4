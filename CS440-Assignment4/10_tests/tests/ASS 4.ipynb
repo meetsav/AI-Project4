{
 "cells": [
  {
   "cell_type": "code",
   "execution_count": 1,
   "metadata": {
    "collapsed": true
   },
   "outputs": [],
   "source": [
    "def no_breeze(Matrix,row,col):\n",
    "    possible_positions = ((row+1,col),(row-1,col),(row,col+1),(row,col-1))\n",
    "    valid_positions = true_positions(possible_positions)\n",
    "    for position in valid_positions:\n",
    "        (i,j) = position\n",
    "        Matrix[i][j][3] = 0\n",
    "    return Matrix"
   ]
  },
  {
   "cell_type": "code",
   "execution_count": 2,
   "metadata": {},
   "outputs": [
    {
     "ename": "IndentationError",
     "evalue": "unindent does not match any outer indentation level (<ipython-input-2-ab63cc48aee8>, line 3)",
     "output_type": "error",
     "traceback": [
      "\u001b[0;36m  File \u001b[0;32m\"<ipython-input-2-ab63cc48aee8>\"\u001b[0;36m, line \u001b[0;32m3\u001b[0m\n\u001b[0;31m    ---------------------------------------------------------------------------\u001b[0m\n\u001b[0m                                                                               ^\u001b[0m\n\u001b[0;31mIndentationError\u001b[0m\u001b[0;31m:\u001b[0m unindent does not match any outer indentation level\n"
     ]
    }
   ],
   "source": [
    "1\n",
    "0\n",
    "0\n",
    "0\n",
    "0\n",
    "1\n",
    "0\n",
    "0\n",
    "1\n",
    "1"
   ]
  },
  {
   "cell_type": "code",
   "execution_count": 34,
   "metadata": {
    "collapsed": true
   },
   "outputs": [],
   "source": [
    "def no_stench(Matrix,row,col):\n",
    "    possible_positions = ((row+1,col),(row-1,col),(row,col+1),(row,col-1))\n",
    "    valid_positions = true_positions(possible_positions)\n",
    "    for position in valid_positions:\n",
    "        (i,j) = position\n",
    "        Matrix[i][j][4] = 0\n",
    " ---------------------------------------------------------------------------\n",
    "RecursionError                            Traceback (most recent call last)\n",
    "<ipython-input-43-661e0ee048be> in <module>()\n",
    "----> 1 process()\n",
    "\n",
    "<ipython-input-30-c5b8d7e96b73> in process()\n",
    "     28         row = belief[0]-1   return Matrix"
   ]
  },
  {
   "cell_type": "code",
   "execution_count": 35,
   "metadata": {
    "collapsed": true
   },
   "outputs": [],
   "source": [
    "def pit(Matrix,row,col):\n",
    "    possible_positions = ((row+1,col),(row-1,col),(row,col+1),(row,col-1))\n",
    "    valid_positions = true_positions(possible_positions)\n",
    "    for position in valid_positions:\n",
    "        (i,j) = position\n",
    "        Matrix[i][j][0] = 1\n",
    "    return Matrix"
   ]
  },
  {
   "cell_type": "code",
   "execution_count": 36,
   "metadata": {
    "collapsed": true
   },
   "outputs": [],
   "source": [
    "def wumpus(Matrix,row,col):\n",
    "    possible_positions = ((row+1,col),(row-1,col),(row,col+1),(row,col-1))\n",
    "    valid_positions = true_positions(possible_positions)\n",
    "    for position in valid_positions:\n",
    "        (i,j) = position\n",
    "        Matrix[i][j][2] = 1\n",
    "    Matrix = change_value(Matrix,row,col,belief[2])\n",
    "    return Matrix\n"
   ]
  },
  {
   "cell_type": "code",
   "execution_count": 37,
   "metadata": {
    "collapsed": true
   },
   "outputs": [],
   "source": [
    "def no_wumpus(Matrix,row,col):\n",
    "    possible_positions = ((row+1,col),(row-1,col),(row,col+1),(row,col-1))\n",
    "    valid_positions = true_positions(possible_positions)\n",
    "    for position in valid_positions:\n",
    "        (i,j) = position\n",
    "        Matrix[i][j][2] = 0\n",
    "    return Matrix"
   ]
  },
  {
   "cell_type": "code",
   "execution_count": 38,
   "metadata": {
    "collapsed": true
   },
   "outputs": [],
   "source": [
    "def extract_data(foldername):\n",
    "    file = open(folder+\"beliefs.txt\",\"r\")\n",
    "    lines = [line.rstrip('\\n') for line in file]\n",
    "    grid_size = int(lines[0])\n",
    "    beliefs = []\n",
    "    for line in lines[1:]:\n",
    "        temp = line.split(\"\\t\")\n",
    "        if(len(temp) == 3):\n",
    "            temp[0] = int(temp[0])\n",
    "            temp[1] = int(temp[1])\n",
    "            beliefs.append(temp)\n",
    "    \n",
    "    file1 = open(folder+\"query.txt\",\"r\")\n",
    "    query = file1.readline().split(\"\\t\")\n",
    "    query[0] = int(query[0])\n",
    "    query[1] = int(query[1])\n",
    "    query[2] = query[2].replace(\"\\n\",\"\")\n",
    " ---------------------------------------------------------------------------\n",
    "RecursionError                            Traceback (most recent call last)\n",
    "<ipython-input-43-661e0ee048be> in <module>()\n",
    "----> 1 process()\n",
    "\n",
    "<ipython-input-30-c5b8d7e96b73> in process()\n",
    "     28         row = belief[0]-1   return grid_size,beliefs,query"
   ]
  },
  {
   "cell_type": "code",
   "execution_count": 39,
   "metadata": {
    "collapsed": true
   },
   "outputs": [],
   "source": [
    "def change_value(Matrix,row,col,info):\n",
    "    if(info == 'NoBreeze'):\n",
    "        Matrix[row][col][0] = 0\n",
    "        Matrix = no_breeze(Matrix,row,col)\n",
    "    if(info == 'Breeze'):\n",
    "        Matrix[row][col][0] = 1\n",
    "    if(info == 'NoGlitter'):\n",
    "        Matrix[row][col][1] = 0\n",
    "    if(info == 'Glitter'):\n",
    "        Matrix[row][col][1] = 1\n",
    "    if(info== 'NoStench'):\n",
    "        Matrix[row][col][2] = 0\n",
    "        Matrix = no_stench(Matrix,row,col)\n",
    "    if(info == 'Stench'):\n",
    "        Matrix[row][col][2] = 1\n",
    "    if(info == 'NoPit'):\n",
    "        Matrix[row][col][3] = 0\n",
    "    if(info == 'Pit'):\n",
    "        Matrix[row][col][3] = 1\n",
    "        Matrix = pit(Matrix,row,col)\n",
    "    if(info == 'NoWumpus'):\n",
    "        Matrix[row][col][4] = 0\n",
    "        Matrix = no_wumpus(Matrix,row,col)\n",
    "    if(info == 'Wumpus'):\n",
    "        Matrix[row][col][4] = 1\n",
    "        Matrix = wumpus(Matrix,row,col)\n",
    "    return Matrix"
   ]
  },
  {
   "cell_type": "code",
   "execution_count": 40,
   "metadata": {
    "collapsed": true
   },
   "outputs": [],
   "source": [
    "def get_pit_count(Matri---------------------------------------------------------------------------\n",
    "RecursionError                            Traceback (most recent call last)\n",
    "<ipython-input-43-661e0ee048be> in <module>()\n",
    "----> 1 process()\n",
    "\n",
    "<ipython-input-30-c5b8d7e96b73> in process()\n",
    "     28         row = belief[0]-1x,row,col):\n",
    "    possible_positions = ((row+1,col),(row-1,col),(row,col+1),(row,col-1))\n",
    "    valid_positions = true_positions(possible_positions)#around cell\n",
    "    #print(\"-------------------------\")\n",
    "    #print(valid_positions)\n",
    "    count = 0\n",
    "    for position in valid_positions:\n",
    "        #print(\"-----------------------\")\n",
    "        #print(position)\n",
    "        \n",
    "        (row_in,col_in) = position\n",
    "        possible_positions_in = ((row_in+1,col_in),(row_in-1,col_in),(row_in,col_in+1),(row_in,col_in-1))\n",
    "        valid_positions_in = true_positions(possible_positions_in)\n",
    "        valid_positions_in.remove((row,col))\n",
    "        \n",
    "        #print(valid_positions_in)\n",
    "        count_in = 0\n",
    "        for position_in in valid_positions_in:\n",
    "            #print(Matrix[position_in[0]][position_in[1]])\n",
    "            if(Matrix[position_in[0]][position_in[1]][3]==0):\n",
    "                #print(Matrix[position_in[0]][position_in[1]])\n",
    "                count_in += 1\n",
    "        if(count_in==len(valid_positions_in)):\n",
    "            count += 1\n",
    "            \n",
    "        #print(row_in,\" \",col_in,\" \",count_in)\n",
    "    return count"
   ]
  },
  {
   "cell_type": "code",
   "execution_count": 41,
   "metadata": {
    "collapsed": true
   },
   "outputs": [],
   "source": [
    "def q_pit(Matrix,query):\n",
    "    row = query[0]-1\n",
    "    col = query[1]-1\n",
    "    info = query[2]\n",
    "    possible_positions = ((row+1,col),(row-1,col),(row,col+1),(row,col-1))\n",
    "    valid_positions = true_positions(possible_positions)\n",
    "    is_breeze_true = 0\n",
    "    is_breeze_false = 0\n",
    "    is_breeze_maybe = 0\n",
    "    for position in valid_positions:\n",
    "        breeze_value_in_position = Matrix[position[0]][position[1]][0]\n",
    "        if(breeze_value_in_position == 1):\n",
    "            is_breeze_true += 1\n",
    "        elif(breeze_value_in_position == 0):\n",
    "            is_breeze_false += 1\n",
    "        else:\n",
    "            is_breeze_maybe += 1\n",
    "    if(is_breeze_false>0):\n",
    "        return \"does not entail\"\n",
    "    else:\n",
    "        #print(\"pit can be formed on further investigation\")\n",
    "        #print(\"row\", row)\n",
    "        #print(\"col\",col)\n",
    "        count = get_pit_count(Matrix,row,col)\n",
    "        #print(\"from get pit count\",count)\n",
    "        if(count>0):\n",
    "            return \"entails\"\n",
    "        else:\n",
    "            return \"does not entail\"\n",
    "     \n",
    "            "
   ]
  },
  {
   "cell_type": "markdown",
   "metadata": {},
   "source": [
    "# thinking that pit is handled"
   ]
  },
  {
   "cell_type": "code",
   "execution_count": 42,
   "metadata": {},
   "outputs": [
    {
     "ename": "RecursionError",
     "evalue": "maximum recursion depth exceeded",
     "output_type": "error",
     "traceback": [
      "\u001b[0;31m---------------------------------------------------------------------------\u001b[0m",
      "\u001b[0;31mRecursionError\u001b[0m                            Traceback (most recent call last)",
      "\u001b[0;32m<ipython-input-42-1e8771e11e4a>\u001b[0m in \u001b[0;36m<module>\u001b[0;34m()\u001b[0m\n\u001b[1;32m     23\u001b[0m     \u001b[0mrow\u001b[0m \u001b[0;34m=\u001b[0m \u001b[0mbelief\u001b[0m\u001b[0;34m[\u001b[0m\u001b[0;36m0\u001b[0m\u001b[0;34m]\u001b[0m\u001b[0;34m-\u001b[0m\u001b[0;36m1\u001b[0m\u001b[0;34m\u001b[0m\u001b[0;34m\u001b[0m\u001b[0m\n\u001b[1;32m     24\u001b[0m     \u001b[0mcol\u001b[0m \u001b[0;34m=\u001b[0m \u001b[0mbelief\u001b[0m\u001b[0;34m[\u001b[0m\u001b[0;36m1\u001b[0m\u001b[0;34m]\u001b[0m\u001b[0;34m-\u001b[0m\u001b[0;36m1\u001b[0m\u001b[0;34m\u001b[0m\u001b[0;34m\u001b[0m\u001b[0m\n\u001b[0;32m---> 25\u001b[0;31m     \u001b[0mMatrix\u001b[0m \u001b[0;34m=\u001b[0m \u001b[0mchange_value\u001b[0m\u001b[0;34m(\u001b[0m\u001b[0mMatrix\u001b[0m\u001b[0;34m,\u001b[0m\u001b[0mrow\u001b[0m\u001b[0;34m,\u001b[0m\u001b[0mcol\u001b[0m\u001b[0;34m,\u001b[0m\u001b[0mbelief\u001b[0m\u001b[0;34m[\u001b[0m\u001b[0;36m2\u001b[0m\u001b[0;34m]\u001b[0m\u001b[0;34m)\u001b[0m\u001b[0;34m\u001b[0m\u001b[0;34m\u001b[0m\u001b[0m\n\u001b[0m\u001b[1;32m     26\u001b[0m \u001b[0;32mif\u001b[0m\u001b[0;34m(\u001b[0m\u001b[0mquery\u001b[0m\u001b[0;34m[\u001b[0m\u001b[0;36m2\u001b[0m\u001b[0;34m]\u001b[0m \u001b[0;34m==\u001b[0m \u001b[0;34m'Pit'\u001b[0m\u001b[0;34m)\u001b[0m\u001b[0;34m:\u001b[0m\u001b[0;34m\u001b[0m\u001b[0;34m\u001b[0m\u001b[0m\n\u001b[1;32m     27\u001b[0m     \u001b[0mprint\u001b[0m\u001b[0;34m(\u001b[0m\u001b[0mq_pit\u001b[0m\u001b[0;34m(\u001b[0m\u001b[0mMatrix\u001b[0m\u001b[0;34m,\u001b[0m\u001b[0mquery\u001b[0m\u001b[0;34m)\u001b[0m\u001b[0;34m)\u001b[0m\u001b[0;34m\u001b[0m\u001b[0;34m\u001b[0m\u001b[0m\n",
      "\u001b[0;32m<ipython-input-39-ada66253728b>\u001b[0m in \u001b[0;36mchange_value\u001b[0;34m(Matrix, row, col, info)\u001b[0m\n\u001b[1;32m     24\u001b[0m     \u001b[0;32mif\u001b[0m\u001b[0;34m(\u001b[0m\u001b[0minfo\u001b[0m \u001b[0;34m==\u001b[0m \u001b[0;34m'Wumpus'\u001b[0m\u001b[0;34m)\u001b[0m\u001b[0;34m:\u001b[0m\u001b[0;34m\u001b[0m\u001b[0;34m\u001b[0m\u001b[0m\n\u001b[1;32m     25\u001b[0m         \u001b[0mMatrix\u001b[0m\u001b[0;34m[\u001b[0m\u001b[0mrow\u001b[0m\u001b[0;34m]\u001b[0m\u001b[0;34m[\u001b[0m\u001b[0mcol\u001b[0m\u001b[0;34m]\u001b[0m\u001b[0;34m[\u001b[0m\u001b[0;36m4\u001b[0m\u001b[0;34m]\u001b[0m \u001b[0;34m=\u001b[0m \u001b[0;36m1\u001b[0m\u001b[0;34m\u001b[0m\u001b[0;34m\u001b[0m\u001b[0m\n\u001b[0;32m---> 26\u001b[0;31m         \u001b[0mMatrix\u001b[0m \u001b[0;34m=\u001b[0m \u001b[0mwumpus\u001b[0m\u001b[0;34m(\u001b[0m\u001b[0mMatrix\u001b[0m\u001b[0;34m,\u001b[0m\u001b[0mrow\u001b[0m\u001b[0;34m,\u001b[0m\u001b[0mcol\u001b[0m\u001b[0;34m)\u001b[0m\u001b[0;34m\u001b[0m\u001b[0;34m\u001b[0m\u001b[0m\n\u001b[0m\u001b[1;32m     27\u001b[0m     \u001b[0;32mreturn\u001b[0m \u001b[0mMatrix\u001b[0m\u001b[0;34m\u001b[0m\u001b[0;34m\u001b[0m\u001b[0m\n",
      "\u001b[0;32m<ipython-input-36-990b05cce1ea>\u001b[0m in \u001b[0;36mwumpus\u001b[0;34m(Matrix, row, col)\u001b[0m\n\u001b[1;32m      5\u001b[0m         \u001b[0;34m(\u001b[0m\u001b[0mi\u001b[0m\u001b[0;34m,\u001b[0m\u001b[0mj\u001b[0m\u001b[0;34m)\u001b[0m \u001b[0;34m=\u001b[0m \u001b[0mposition\u001b[0m\u001b[0;34m\u001b[0m\u001b[0;34m\u001b[0m\u001b[0m\n\u001b[1;32m      6\u001b[0m         \u001b[0mMatrix\u001b[0m\u001b[0;34m[\u001b[0m\u001b[0mi\u001b[0m\u001b[0;34m]\u001b[0m\u001b[0;34m[\u001b[0m\u001b[0mj\u001b[0m\u001b[0;34m]\u001b[0m\u001b[0;34m[\u001b[0m\u001b[0;36m2\u001b[0m\u001b[0;34m]\u001b[0m \u001b[0;34m=\u001b[0m \u001b[0;36m1\u001b[0m\u001b[0;34m\u001b[0m\u001b[0;34m\u001b[0m\u001b[0m\n\u001b[0;32m----> 7\u001b[0;31m     \u001b[0mMatrix\u001b[0m \u001b[0;34m=\u001b[0m \u001b[0mchange_value\u001b[0m\u001b[0;34m(\u001b[0m\u001b[0mMatrix\u001b[0m\u001b[0;34m,\u001b[0m\u001b[0mrow\u001b[0m\u001b[0;34m,\u001b[0m\u001b[0mcol\u001b[0m\u001b[0;34m,\u001b[0m\u001b[0mbelief\u001b[0m\u001b[0;34m[\u001b[0m\u001b[0;36m2\u001b[0m\u001b[0;34m]\u001b[0m\u001b[0;34m)\u001b[0m\u001b[0;34m\u001b[0m\u001b[0;34m\u001b[0m\u001b[0m\n\u001b[0m\u001b[1;32m      8\u001b[0m     \u001b[0;32mreturn\u001b[0m \u001b[0mMatrix\u001b[0m\u001b[0;34m\u001b[0m\u001b[0;34m\u001b[0m\u001b[0m\n",
      "... last 2 frames repeated, from the frame below ...\n",
      "\u001b[0;32m<ipython-input-39-ada66253728b>\u001b[0m in \u001b[0;36mchange_value\u001b[0;34m(Matrix, row, col, info)\u001b[0m\n\u001b[1;32m     24\u001b[0m     \u001b[0;32mif\u001b[0m\u001b[0;34m(\u001b[0m\u001b[0minfo\u001b[0m \u001b[0;34m==\u001b[0m \u001b[0;34m'Wumpus'\u001b[0m\u001b[0;34m)\u001b[0m\u001b[0;34m:\u001b[0m\u001b[0;34m\u001b[0m\u001b[0;34m\u001b[0m\u001b[0m\n\u001b[1;32m     25\u001b[0m         \u001b[0mMatrix\u001b[0m\u001b[0;34m[\u001b[0m\u001b[0mrow\u001b[0m\u001b[0;34m]\u001b[0m\u001b[0;34m[\u001b[0m\u001b[0mcol\u001b[0m\u001b[0;34m]\u001b[0m\u001b[0;34m[\u001b[0m\u001b[0;36m4\u001b[0m\u001b[0;34m]\u001b[0m \u001b[0;34m=\u001b[0m \u001b[0;36m1\u001b[0m\u001b[0;34m\u001b[0m\u001b[0;34m\u001b[0m\u001b[0m\n\u001b[0;32m---> 26\u001b[0;31m         \u001b[0mMatrix\u001b[0m \u001b[0;34m=\u001b[0m \u001b[0mwumpus\u001b[0m\u001b[0;34m(\u001b[0m\u001b[0mMatrix\u001b[0m\u001b[0;34m,\u001b[0m\u001b[0mrow\u001b[0m\u001b[0;34m,\u001b[0m\u001b[0mcol\u001b[0m\u001b[0;34m)\u001b[0m\u001b[0;34m\u001b[0m\u001b[0;34m\u001b[0m\u001b[0m\n\u001b[0m\u001b[1;32m     27\u001b[0m     \u001b[0;32mreturn\u001b[0m \u001b[0mMatrix\u001b[0m\u001b[0;34m\u001b[0m\u001b[0;34m\u001b[0m\u001b[0m\n",
      "\u001b[0;31mRecursionError\u001b[0m: maximum recursion depth exceeded"
     ]
    }
   ],
   "source": [
    "foldername = \"1/\"\n",
    "file = open(foldername+\"beliefs.txt\",\"r\")\n",
    "lines = [line.rstrip('\\n') for line in file]\n",
    "grid_size = int(lines[0])\n",
    "beliefs = []\n",
    "for line in lines[1:]:\n",
    "    temp = line.split(\"\\t\")\n",
    "    if(len(temp) == 3):\n",
    "        temp[0] = int(temp[0])\n",
    "        temp[1] = int(temp[1])\n",
    "        beliefs.append(temp)\n",
    "    \n",
    "file1 = open(foldername+\"query.txt\",\"r\")\n",
    "query = file1.readline().split(\"\\t\")\n",
    "query[0] = int(query[0])\n",
    "query[1] = int(query[1])\n",
    "query[2] = query[2].replace(\"\\n\",\"\")\n",
    "\n",
    "Matrix = [[[0.5,0.5,0.5,0.5,0.5] for x in range(grid_size)] for y in range(grid_size)]\n",
    "Matrix[0][0] = [0,0,0,0,0]\n",
    "\n",
    "for belief in beliefs:\n",
    "    row = belief[0]-1\n",
    "    col = belief[1]-1\n",
    "    Matrix = change_value(Matrix,row,col,belief[2])\n",
    "if(query[2] == 'Pit'):\n",
    "    print(q_pit(Matrix,query))\n",
    "if(query[2] == 'Stench'):\n",
    "    print(q_stench(Matrix,query))"
   ]
  },
  {
   "cell_type": "markdown",
   "metadata": {},
   "source": [
    "# now will handle stench"
   ]
  },
  {
   "cell_type": "code",
   "execution_count": 44,
   "metadata": {},
   "outputs": [
    {
     "ename": "SyntaxError",
     "evalue": "invalid syntax (<ipython-input-44-c23d549ea1a8>, line 39)",
     "output_type": "error",
     "traceback": [
      "\u001b[0;36m  File \u001b[0;32m\"<ipython-input-44-c23d549ea1a8>\"\u001b[0;36m, line \u001b[0;32m39\u001b[0m\n\u001b[0;31m    aximum recursion depth exceeded\u001b[0m\n\u001b[0m                   ^\u001b[0m\n\u001b[0;31mSyntaxError\u001b[0m\u001b[0;31m:\u001b[0m invalid syntax\n"
     ]
    }
   ],
   "source": [
    "def q_stench(Matrix,query):\n",
    "    row = query[0]-1\n",
    "    col = query[1]-1\n",
    "    info = query[2]\n",
    "    #with wumpus given\n",
    "    possible_positions = ((row+1,col),(row-1,col),(row,col+1),(row,col-1))\n",
    "    valid_positions = true_positions(possible_positions)\n",
    "    count = 0\n",
    "    for position in valid_positions:\n",
    "        if(Matrix[position[0]][position[1]][4]==1):\n",
    "            count += 1\n",
    "    if(count>0):\n",
    "        return \"entails  with wumpus given\"\n",
    "    #with stench given   \n",
    "    possible_positions = ((row+2,col),(row-2,col),(row,col+2),(row,col-2))\n",
    "    valid_positions = true_positions(possible_positions)\n",
    "    \n",
    "    for position in valid_positions:\n",
    "        count = 0\n",
    "        #print(\"-----------\")\n",
    "        #print(position)\n",
    "        #print(Matrix[position[0]][position[1]])\n",
    "        if(Matrix[position[0]][position[1]][2]==1):\n",
    "            #print(position)\n",
    "            count += 1\n",
    "            row_in = position[0]\n",
    "            col_in = position[1]\n",
    "            #(row_in,col_in) = position\n",
    "            possible_positions_in = ((row_in+2,col_in),(row_in-2,col_in),(row_in,col_in+2),(row_in,col_in-2))\n",
    "            valid_positions_in = true_positions(possible_positions_in)\n",
    "            count_in = 0\n",
    "            for position_in in valid_positions_in:\n",
    "                #print(\"position in \",position_in)\n",
    "                if(Matrix[position_in[0]][position_in[1]][2]==0):\n",
    "                    count_in += 1\n",
    "            #print(count,count_in,len(valid_positions_in)-1)\n",
    "            if(count == 1 and (count_in == len(valid_positions_in)-1)):\n",
    "                return \"entails\"\n",
    "    aximum recursion depth exceeded\n",
    "    return \"does not en---------------------------------------------------------------------------\n",
    "RecursionError                            Traceback (most recent call last)\n",
    "<ipython-input-43-661e0ee048be> in <module>()\n",
    "----> 1 process()\n",
    "\n",
    "<ipython-input-30-c5b8d7e96b73> in process()\n",
    "     28         row = belief[0]-1tail\"\n",
    "            "
   ]
  },
  {
   "cell_type": "code",
   "execution_count": 45,
   "metadata": {},
   "outputs": [
    {
     "ename": "SyntaxError",
     "evalue": "invalid syntax (<ipython-input-45-85232be75531>, line 12)",
     "output_type": "error",
     "traceback": [
      "\u001b[0;36m  File \u001b[0;32m\"<ipython-input-45-85232be75531>\"\u001b[0;36m, line \u001b[0;32m12\u001b[0m\n\u001b[0;31m    aximum recursion depth exceeded\u001b[0m\n\u001b[0m                   ^\u001b[0m\n\u001b[0;31mSyntaxError\u001b[0m\u001b[0;31m:\u001b[0m invalid syntax\n"
     ]
    }
   ],
   "source": [
    "foldername = \"1/\"\n",
    "file = open(foldername+\"beliefs.txt\",\"r\")\n",
    "lines = [line.rstrip('\\n') for line in file]\n",
    "grid_size = int(lines[0])\n",
    "beliefs = []\n",
    "for line in lines[1:]:\n",
    "    temp = line.split(\"\\t\")\n",
    "    if(len(temp) == 3):\n",
    "        temp[0] = int(temp[0])\n",
    "        temp[1] = int(temp[1])\n",
    "        beliefs.append(temp) \n",
    "    aximum recursion depth exceeded\n",
    "file1 = open(foldername+\"query.txt\",\"r\")\n",
    "query = file1.readline().split(\"\\t\")\n",
    "query[0] = int(query[0])\n",
    "query[1] = int(query[1])\n",
    "query[2] = query[2].replace(\"\\n\",\"\")\n",
    "\n",
    "Matrix = [[[0.5,0.5,0.5,0.5,0.5] for x in range(grid_size)] for y in range(grid_size)]\n",
    "Matrix[0][0] = [0,0,0,0,0]\n",
    "\n",
    "for belief in beliefs:\n",
    "    row = belief[0]-1\n",
    "    col = belief[1]-1\n",
    "    Matrix = change_value(Matrix,row,col,belie---------------------------------------------------------------------------\n",
    "RecursionError                            Traceback (most recent call last)\n",
    "<ipython-input-43-661e0ee048be> in <module>()\n",
    "----> 1 process()\n",
    "\n",
    "<ipython-input-30-c5b8d7e96b73> in process()\n",
    "     28         row = belief[0]-1f[2])\n",
    "if(query[2] == 'Pit'):\n",
    "    print(q_pit(Matrix,query))aximum recursion depth exceeded\n",
    "if(query[2] == 'Stench'):\n",
    "    print(q_stench(Matrix,query))"
   ]
  },
  {
   "cell_type": "markdown",
   "metadata": {},
   "source": [
    "# trying to get overall functionality"
   ]
  },
  {
   "cell_type": "code",
   "execution_count": null,
   "metadata": {
    "collapsed": true
   },
   "outputs": [],
   "source": [
    "def process():\n",
    "    foldername = \"1\"\n",
    "    global grid_size\n",
    "    global query\n",
    "    global Matrix\n",
    "    global beliefs\n",
    "    file = open(\"1/beliefs.txt\",\"r\")\n",
    "    lines = [line.rstrip('\\n') for line in file]\n",
    "    grid_size = int(lines[0])\n",
    "    beliefs = []\n",
    "    for line in lines[1:]:\n",
    "        temp = line.split(\"\\t\")\n",
    "        if(len(temp) == 3):\n",
    "            temp[0] = int(temp[0])\n",
    "            temp[1] = int(tempaximum recursion depth exceeded[1])\n",
    "            beliefs.append(temp)\n",
    "\n",
    "    file1 = open(\"1/query.txt\",\"r\")\n",
    "    query = file1.readline().split(\"\\t\")\n",
    "    query[0] = int(query[0])\n",
    "    query[1] = int(query[1])\n",
    "    query[2] = query[2].replace(\"\\n\",\"\")\n",
    "\n",
    "    Matrix = [[[0.5,0.5,0.5,0.5,0.5] for x in range(grid_size)] for y in range(grid_size)]\n",
    "    Matrix[0][0] = [0,0,0,0,0]\n",
    "\n",
    "    for belief in beliefs:\n",
    "        row = belief[0]-1\n",
    "        col = belief[1]-1\n",
    "        Matrix = change_value(Matrix,row,col,belief[2])\n",
    "    if(query[2] == 'Pit'):\n",
    "        return q_pit(Matrix,query)\n",
    "    if(query[2] == 'Stench'):\n",
    "        return q_stench(Matrixaximum recursion depth exceeded,query)"
   ]
  },
  {
   "cell_type": "code",
   "execution_count": 43,
   "metadata": {},
   "outputs": [
    {
     "ename": "RecursionError",
     "evalue": "maximum recursion depth exceeded in comparison",
     "output_type": "error",
     "traceback": [
      "\u001b[0;31m---------------------------------------------------------------------------\u001b[0m",
      "\u001b[0;31mRecursionError\u001b[0m                            Traceback (most recent call last)",
      "\u001b[0;32m<ipython-input-43-661e0ee048be>\u001b[0m in \u001b[0;36m<module>\u001b[0;34m()\u001b[0m\n\u001b[0;32m----> 1\u001b[0;31m \u001b[0mprocess\u001b[0m\u001b[0;34m(\u001b[0m\u001b[0;34m)\u001b[0m\u001b[0;34m\u001b[0m\u001b[0;34m\u001b[0m\u001b[0m\n\u001b[0m",
      "\u001b[0;32m<ipython-input-30-c5b8d7e96b73>\u001b[0m in \u001b[0;36mprocess\u001b[0;34m()\u001b[0m\n\u001b[1;32m     28\u001b[0m         \u001b[0mrow\u001b[0m \u001b[0;34m=\u001b[0m \u001b[0mbelief\u001b[0m\u001b[0;34m[\u001b[0m\u001b[0;36m0\u001b[0m\u001b[0;34m]\u001b[0m\u001b[0;34m-\u001b[0m\u001b[0;36m1\u001b[0m\u001b[0;34m\u001b[0m\u001b[0;34m\u001b[0m\u001b[0m\n\u001b[1;32m     29\u001b[0m         \u001b[0mcol\u001b[0m \u001b[0;34m=\u001b[0m \u001b[0mbelief\u001b[0m\u001b[0;34m[\u001b[0m\u001b[0;36m1\u001b[0m\u001b[0;34m]\u001b[0m\u001b[0;34m-\u001b[0m\u001b[0;36m1\u001b[0m\u001b[0;34m\u001b[0m\u001b[0;34m\u001b[0m\u001b[0m\n\u001b[0;32m---> 30\u001b[0;31m         \u001b[0mMatrix\u001b[0m \u001b[0;34m=\u001b[0m \u001b[0mchange_value\u001b[0m\u001b[0;34m(\u001b[0m\u001b[0mMatrix\u001b[0m\u001b[0;34m,\u001b[0m\u001b[0mrow\u001b[0m\u001b[0;34m,\u001b[0m\u001b[0mcol\u001b[0m\u001b[0;34m,\u001b[0m\u001b[0mbelief\u001b[0m\u001b[0;34m[\u001b[0m\u001b[0;36m2\u001b[0m\u001b[0;34m]\u001b[0m\u001b[0;34m)\u001b[0m\u001b[0;34m\u001b[0m\u001b[0;34m\u001b[0m\u001b[0m\n\u001b[0m\u001b[1;32m     31\u001b[0m     \u001b[0;32mif\u001b[0m\u001b[0;34m(\u001b[0m\u001b[0mquery\u001b[0m\u001b[0;34m[\u001b[0m\u001b[0;36m2\u001b[0m\u001b[0;34m]\u001b[0m \u001b[0;34m==\u001b[0m \u001b[0;34m'Pit'\u001b[0m\u001b[0;34m)\u001b[0m\u001b[0;34m:\u001b[0m\u001b[0;34m\u001b[0m\u001b[0;34m\u001b[0m\u001b[0m\n\u001b[1;32m     32\u001b[0m         \u001b[0;32mreturn\u001b[0m \u001b[0mq_pit\u001b[0m\u001b[0;34m(\u001b[0m\u001b[0mMatrix\u001b[0m\u001b[0;34m,\u001b[0m\u001b[0mquery\u001b[0m\u001b[0;34m)\u001b[0m\u001b[0;34m\u001b[0m\u001b[0;34m\u001b[0m\u001b[0m\n",
      "\u001b[0;32m<ipython-input-39-ada66253728b>\u001b[0m in \u001b[0;36mchange_value\u001b[0;34m(Matrix, row, col, info)\u001b[0m\n\u001b[1;32m     24\u001b[0m     \u001b[0;32mif\u001b[0m\u001b[0;34m(\u001b[0m\u001b[0minfo\u001b[0m \u001b[0;34m==\u001b[0m \u001b[0;34m'Wumpus'\u001b[0m\u001b[0;34m)\u001b[0m\u001b[0;34m:\u001b[0m\u001b[0;34m\u001b[0m\u001b[0;34m\u001b[0m\u001b[0m\n\u001b[1;32m     25\u001b[0m         \u001b[0mMatrix\u001b[0m\u001b[0;34m[\u001b[0m\u001b[0mrow\u001b[0m\u001b[0;34m]\u001b[0m\u001b[0;34m[\u001b[0m\u001b[0mcol\u001b[0m\u001b[0;34m]\u001b[0m\u001b[0;34m[\u001b[0m\u001b[0;36m4\u001b[0m\u001b[0;34m]\u001b[0m \u001b[0;34m=\u001b[0m \u001b[0;36m1\u001b[0m\u001b[0;34m\u001b[0m\u001b[0;34m\u001b[0m\u001b[0m\n\u001b[0;32m---> 26\u001b[0;31m         \u001b[0mMatrix\u001b[0m \u001b[0;34m=\u001b[0m \u001b[0mwumpus\u001b[0m\u001b[0;34m(\u001b[0m\u001b[0mMatrix\u001b[0m\u001b[0;34m,\u001b[0m\u001b[0mrow\u001b[0m\u001b[0;34m,\u001b[0m\u001b[0mcol\u001b[0m\u001b[0;34m)\u001b[0m\u001b[0;34m\u001b[0m\u001b[0;34m\u001b[0m\u001b[0m\n\u001b[0m\u001b[1;32m     27\u001b[0m     \u001b[0;32mreturn\u001b[0m \u001b[0mMatrix\u001b[0m\u001b[0;34m\u001b[0m\u001b[0;34m\u001b[0m\u001b[0m\n",
      "\u001b[0;32m<ipython-input-36-990b05cce1ea>\u001b[0m in \u001b[0;36mwumpus\u001b[0;34m(Matrix, row, col)\u001b[0m\n\u001b[1;32m      5\u001b[0m         \u001b[0;34m(\u001b[0m\u001b[0mi\u001b[0m\u001b[0;34m,\u001b[0m\u001b[0mj\u001b[0m\u001b[0;34m)\u001b[0m \u001b[0;34m=\u001b[0m \u001b[0mposition\u001b[0m\u001b[0;34m\u001b[0m\u001b[0;34m\u001b[0m\u001b[0m\n\u001b[1;32m      6\u001b[0m         \u001b[0mMatrix\u001b[0m\u001b[0;34m[\u001b[0m\u001b[0mi\u001b[0m\u001b[0;34m]\u001b[0m\u001b[0;34m[\u001b[0m\u001b[0mj\u001b[0m\u001b[0;34m]\u001b[0m\u001b[0;34m[\u001b[0m\u001b[0;36m2\u001b[0m\u001b[0;34m]\u001b[0m \u001b[0;34m=\u001b[0m \u001b[0;36m1\u001b[0m\u001b[0;34m\u001b[0m\u001b[0;34m\u001b[0m\u001b[0m\n\u001b[0;32m----> 7\u001b[0;31m     \u001b[0mMatrix\u001b[0m \u001b[0;34m=\u001b[0m \u001b[0mchange_value\u001b[0m\u001b[0;34m(\u001b[0m\u001b[0mMatrix\u001b[0m\u001b[0;34m,\u001b[0m\u001b[0mrow\u001b[0m\u001b[0;34m,\u001b[0m\u001b[0mcol\u001b[0m\u001b[0;34m,\u001b[0m\u001b[0mbelief\u001b[0m\u001b[0;34m[\u001b[0m\u001b[0;36m2\u001b[0m\u001b[0;34m]\u001b[0m\u001b[0;34m)\u001b[0m\u001b[0;34m\u001b[0m\u001b[0;34m\u001b[0m\u001b[0m\n\u001b[0m\u001b[1;32m      8\u001b[0m     \u001b[0;32mreturn\u001b[0m \u001b[0mMatrix\u001b[0m\u001b[0;34m\u001b[0m\u001b[0;34m\u001b[0m\u001b[0m\n",
      "... last 2 frames repeated, from the frame below ...\n",
      "\u001b[0;32m<ipython-input-39-ada66253728b>\u001b[0m in \u001b[0;36mchange_value\u001b[0;34m(Matrix, row, col, info)\u001b[0m\n\u001b[1;32m     24\u001b[0m     \u001b[0;32mif\u001b[0m\u001b[0;34m(\u001b[0m\u001b[0minfo\u001b[0m \u001b[0;34m==\u001b[0m \u001b[0;34m'Wumpus'\u001b[0m\u001b[0;34m)\u001b[0m\u001b[0;34m:\u001b[0m\u001b[0;34m\u001b[0m\u001b[0;34m\u001b[0m\u001b[0m\n\u001b[1;32m     25\u001b[0m         \u001b[0mMatrix\u001b[0m\u001b[0;34m[\u001b[0m\u001b[0mrow\u001b[0m\u001b[0;34m]\u001b[0m\u001b[0;34m[\u001b[0m\u001b[0mcol\u001b[0m\u001b[0;34m]\u001b[0m\u001b[0;34m[\u001b[0m\u001b[0;36m4\u001b[0m\u001b[0;34m]\u001b[0m \u001b[0;34m=\u001b[0m \u001b[0;36m1\u001b[0m\u001b[0;34m\u001b[0m\u001b[0;34m\u001b[0m\u001b[0m\n\u001b[0;32m---> 26\u001b[0;31m         \u001b[0mMatrix\u001b[0m \u001b[0;34m=\u001b[0m \u001b[0mwumpus\u001b[0m\u001b[0;34m(\u001b[0m\u001b[0mMatrix\u001b[0m\u001b[0;34m,\u001b[0m\u001b[0mrow\u001b[0m\u001b[0;34m,\u001b[0m\u001b[0mcol\u001b[0m\u001b[0;34m)\u001b[0m\u001b[0;34m\u001b[0m\u001b[0;34m\u001b[0m\u001b[0m\n\u001b[0m\u001b[1;32m     27\u001b[0m     \u001b[0;32mreturn\u001b[0m \u001b[0mMatrix\u001b[0m\u001b[0;34m\u001b[0m\u001b[0;34m\u001b[0m\u001b[0m\n",
      "\u001b[0;31mRecursionError\u001b[0m: maximum recursion depth exceeded in comparison"
     ]
    }
   ],
   "source": [
    "process()"
   ]
  },
  {
   "cell_type": "code",
   "execution_count": null,
   "metadata": {
    "collapsed": true
   },
   "outputs": [],
   "source": []
  },
  {
   "cell_type": "code",
   "execution_count": null,
   "metadata": {
    "collapsed": true
   },
   "outputs": [],
   "source": []
  },
  {
   "cell_type": "code",
   "execution_count": null,
   "metadata": {
    "collapsed": true
   },
   "outputs": [],
   "source": []
  },
  {
   "cell_type": "code",
   "execution_count": null,
   "metadata": {
    "collapsed": true
   },
   "outputs": [],
   "source": []
  },
  {
   "cell_type": "code",
   "execution_count": null,
   "metadata": {
    "collapsed": true
   },
   "outputs": [],
   "source": []
  },
  {
   "cell_type": "code",
   "execution_count": null,
   "metadata": {
    "collapsed": true
   },
   "outputs": [],
   "source": []
  },
  {
   "cell_type": "code",
   "execution_count": null,
   "metadata": {
    "collapsed": true
   },
   "outputs": [],
   "source": []
  },
  {
   "cell_type": "code",
   "execution_count": null,
   "metadata": {
    "collapsed": true
   },
   "outputs": [],
   "source": []
  },
  {
   "cell_type": "code",
   "execution_count": null,
   "metadata": {
    "collapsed": true
   },
   "outputs": [],
   "source": []
  },
  {
   "cell_type": "code",
   "execution_count": null,
   "metadata": {
    "collapsed": true
   },
   "outputs": [],
   "source": []
  }
 ],
 "metadata": {
  "kernelspec": {
   "display_name": "Python 3",
   "language": "python",
   "name": "python3"
  },
  "language_info": {
   "codemirror_mode": {
    "name": "ipython",
    "version": 3
   },
   "file_extension": ".py",
   "mimetype": "text/x-python",
   "name": "python",
   "nbconvert_exporter": "python",
   "pygments_lexer": "ipython3",
   "version": "3.6.8"
  }
 },
 "nbformat": 4,
 "nbformat_minor": 2
}
